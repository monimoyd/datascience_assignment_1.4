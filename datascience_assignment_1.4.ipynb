{
 "cells": [
  {
   "cell_type": "markdown",
   "metadata": {},
   "source": [
    "## Program to calculate volume of a sphere with diameter 12 cm\n",
    "\n",
    "## Solution\n",
    "* Write a function get_volume which takes radius as input and return volume using formula for volume\n",
    "* Get diameter d, divide by 2 to get radius and then call get_volume to get volumen and print the result"
   ]
  },
  {
   "cell_type": "code",
   "execution_count": 5,
   "metadata": {},
   "outputs": [
    {
     "name": "stdout",
     "output_type": "stream",
     "text": [
      "Volume=904.7786842338603\n"
     ]
    }
   ],
   "source": [
    "import math\n",
    "\n",
    "# The function get_volume calculate volume of a given radius r\n",
    "def get_volume(r):\n",
    "    return 4./3. * math.pi * r ** 3\n",
    "\n",
    "# Input diameter d\n",
    "d = 12.\n",
    "r = d/2.\n",
    "# Calculate volume V\n",
    "V= get_volume(r)\n",
    "print(\"Volume=\" + str(V))"
   ]
  },
  {
   "cell_type": "code",
   "execution_count": null,
   "metadata": {},
   "outputs": [],
   "source": []
  }
 ],
 "metadata": {
  "kernelspec": {
   "display_name": "Python 3",
   "language": "python",
   "name": "python3"
  },
  "language_info": {
   "codemirror_mode": {
    "name": "ipython",
    "version": 3
   },
   "file_extension": ".py",
   "mimetype": "text/x-python",
   "name": "python",
   "nbconvert_exporter": "python",
   "pygments_lexer": "ipython3",
   "version": "3.6.4"
  }
 },
 "nbformat": 4,
 "nbformat_minor": 2
}
